{
  "cells": [
    {
      "cell_type": "markdown",
      "id": "a3a2a45f",
      "metadata": {
        "id": "a3a2a45f"
      },
      "source": [
        "## Python Basics Questions"
      ]
    },
    {
      "cell_type": "markdown",
      "id": "ba7a9048",
      "metadata": {
        "id": "ba7a9048"
      },
      "source": [
        "1. What is Python, and why is it popular ?"
      ]
    },
    {
      "cell_type": "markdown",
      "id": "46b69d0c",
      "metadata": {
        "id": "46b69d0c"
      },
      "source": [
        "Python is a high-level, interpreted programming language known for its simple syntax and readability. It supports multiple programming styles like procedural, object-oriented, and functional.\n",
        "It is popular due to these resons:\n",
        "- Easy to Learn & Use – Simple English-like syntax\n",
        "- Versatile – Used in web development, data science, automation, AI, etc.\n",
        "- Large Library Support – Pandas, NumPy, Django, TensorFlow, etc.\n",
        "- Strong Community – Huge developer support and resources\n",
        "- Cross-platform – Works on Windows, macOS, Linux\n",
        "- Great for Beginners & Experts – From basic scripts to complex apps"
      ]
    },
    {
      "cell_type": "markdown",
      "id": "80f6863b",
      "metadata": {
        "id": "80f6863b"
      },
      "source": [
        "2. What is an interpreter in Python ?"
      ]
    },
    {
      "cell_type": "markdown",
      "id": "2353bc9b",
      "metadata": {
        "id": "2353bc9b"
      },
      "source": [
        "In Python, an interpreter is a program that directly executes Python code without prior compilation into machine-readable instructions. Instead of converting the entire source code into an executable file, the interpreter reads and processes the code line by line, translating it into an intermediate form (bytecode) that is then executed by the Python Virtual Machine (PVM)."
      ]
    },
    {
      "cell_type": "markdown",
      "id": "217664d2",
      "metadata": {
        "id": "217664d2"
      },
      "source": [
        "3.  What are pre-defined keywords in Python ?"
      ]
    },
    {
      "cell_type": "markdown",
      "id": "fb7141dc",
      "metadata": {
        "id": "fb7141dc"
      },
      "source": [
        "Keywords are special reserved words in Python that have specific meanings. You cannot use them as variable names.<br>\n",
        "for printing keywords use:<br>\n",
        "\n",
        "import keyword<br>\n",
        "print(keyword.kwlist)<br>\n",
        "\n",
        "[False, True, None, if, else, elif, for, while,<br>\n",
        "break, continue, return, def, class, try, except,<br>\n",
        "finally, import, from, as, pass, raise, in, is,<br>\n",
        "and, or, not, global, nonlocal, lambda, assert,<br>\n",
        "with, yield, del, async, await]\n"
      ]
    },
    {
      "cell_type": "code",
      "execution_count": null,
      "id": "7dc216d0",
      "metadata": {
        "id": "7dc216d0",
        "outputId": "db5f5132-0dcd-4a35-b880-b43a9ffdde22"
      },
      "outputs": [
        {
          "name": "stdout",
          "output_type": "stream",
          "text": [
            "['False', 'None', 'True', 'and', 'as', 'assert', 'async', 'await', 'break', 'class', 'continue', 'def', 'del', 'elif', 'else', 'except', 'finally', 'for', 'from', 'global', 'if', 'import', 'in', 'is', 'lambda', 'nonlocal', 'not', 'or', 'pass', 'raise', 'return', 'try', 'while', 'with', 'yield']\n"
          ]
        }
      ],
      "source": [
        "#for importing keyword\n",
        "import keyword\n",
        "print(keyword.kwlist)"
      ]
    },
    {
      "cell_type": "markdown",
      "id": "d790e7fa",
      "metadata": {
        "id": "d790e7fa"
      },
      "source": [
        "4.  Can keywords be used as variable names?\n",
        "\n",
        "No, keywords cannot be used as variable names in Python.Because keywords are reserved words that have special meaning in the Python language<br> (like if, for, class, True, etc.)."
      ]
    },
    {
      "cell_type": "markdown",
      "id": "79fb5ddb",
      "metadata": {
        "id": "79fb5ddb"
      },
      "source": [
        "5. What is mutability in Python ?\n",
        "\n",
        "Mutability means whether an object can be changed after it is created."
      ]
    },
    {
      "cell_type": "markdown",
      "id": "6cb1199f",
      "metadata": {
        "id": "6cb1199f"
      },
      "source": [
        "6. Why are lists mutable, but tuples are immutable ?<br>\n",
        "Because list are designed to store dynamic data that might change.\n",
        "- You can add, remove, or change elements.\n",
        "- Useful when you need flexibility.<br>\n",
        "Tuples are immutablen because they are meant for fixed, unchangeable data.\n",
        "- Once created, elements can’t be changed.\n",
        "- Safer for data protection and faster in performance."
      ]
    },
    {
      "cell_type": "markdown",
      "id": "b9881c18",
      "metadata": {
        "id": "b9881c18"
      },
      "source": [
        "7. What is the difference between “==” and “is” operators in Python ?\n",
        "\n",
        "| Operator | What it compares          | Returns True if...                         | Use case                     | Example                                   |\n",
        "|----------|--------------------------|-------------------------------------------|------------------------------|-------------------------------------------|\n",
        "| `==`     | Values (content)          | The values/data of both variables are equal | Comparing values/content      | let a=[1,2,3] b= [1,2,3] then  `a==b` → `True`              |\n",
        "| `is`     | Identity (memory address) | Both variables point to the exact same object | Checking if both refer to the same object | a= [1,2,3],b= [1,2,3] then `a is b` → `False` (different objects ans stored in diffrent memory address) |\n",
        "\n"
      ]
    },
    {
      "cell_type": "markdown",
      "id": "a6771077",
      "metadata": {
        "id": "a6771077"
      },
      "source": [
        "8. What are logical operators in Python ?\n",
        "\n",
        "Logical operators are used to combine conditional statements and return True or False based on the logic.\n",
        "\n",
        "The three main logical operators are:\n",
        "- and — Returns True if both conditions are True\n",
        "- or — Returns True if at least one condition is True\n",
        "- not — Reverses the result; returns True if the condition is False"
      ]
    },
    {
      "cell_type": "markdown",
      "id": "d7055973",
      "metadata": {
        "id": "d7055973"
      },
      "source": [
        "9. What is type casting in Python ?\n",
        "\n",
        "Type casting in Python means converting a value from one data type to another.<br>\n",
        "Two types of type casting:\n",
        "- Implicit Casting: Automatic conversion by Python without user involvement (e.g., int to float).\n",
        "- Explicit Casting: Manual conversion using functions like int(), float(), str(), etc."
      ]
    },
    {
      "cell_type": "markdown",
      "id": "94699290",
      "metadata": {
        "id": "94699290"
      },
      "source": [
        "10. What is the difference between implicit and explicit type casting ?\n",
        "\n",
        "| Aspect               | Implicit Type Casting                 | Explicit Type Casting                  |\n",
        "|----------------------|-------------------------------------|--------------------------------------|\n",
        "| Definition           | Automatic conversion by Python      | Manual conversion by the programmer  |\n",
        "| Control              | No user control                     | User controls when to convert        |\n",
        "| Safety               | Generally safe, no data loss         | May cause data loss if not careful   |\n",
        "| Syntax               | Happens automatically                | Uses functions like `int()`, `str()`|\n",
        "| Example              | `x = 5 + 2.0` → `5` (int) to `5.0` (float) | `x = int(\"10\")` converts string to int |\n",
        "| Use Case             | Mixed type operations                | When specific data type is needed    |\n"
      ]
    },
    {
      "cell_type": "markdown",
      "id": "c66bc2e5",
      "metadata": {
        "id": "c66bc2e5"
      },
      "source": [
        "11. What is the purpose of conditional statements in Python ?\n",
        "\n",
        "Conditional statements in Python are used to make decisions in the program by executing different blocks of code based on whether a condition is true or false. They allow the program to branch and control the flow depending on varying inputs or situations.\n",
        "\n",
        "Using conditionals like if, elif, and else, Python programs can:\n",
        "\n",
        "- Execute specific code when certain conditions are met\n",
        "- Handle multiple scenarios dynamically\n",
        "- Improve flexibility and logic in programs\n",
        "- Avoid running unnecessary code"
      ]
    },
    {
      "cell_type": "markdown",
      "id": "7d5ee99c",
      "metadata": {
        "id": "7d5ee99c"
      },
      "source": [
        "12.  How does the elif statement work ?\n",
        "\n",
        "The elif statement in Python stands for “else if” and is used to check multiple conditions sequentially after an initial if condition. When the if condition is False, Python moves on to the elif condition(s). If an elif condition is True, its block runs and the rest are skipped. If none of the if or elif conditions are met, the optional else block runs."
      ]
    },
    {
      "cell_type": "markdown",
      "id": "0739dae1",
      "metadata": {
        "id": "0739dae1"
      },
      "source": [
        "13. What is the difference between for and while loops ?\n",
        "\n",
        "| Feature         | For Loop                        | While Loop                     |\n",
        "|-----------------|---------------------------------|-------------------------------|\n",
        "| Purpose         | Iterate over a sequence or range | Repeat as long as a condition is True |\n",
        "| Syntax          | `for item in sequence:`          | `while condition:`             |\n",
        "| Use case        | When number of iterations is known or fixed | When number of iterations depends on a condition |\n",
        "| Execution       | Runs for each item in the sequence | Runs until condition becomes False |\n",
        "| Example         | `for i in range(5):`             | `while i < 5:`                 |\n"
      ]
    },
    {
      "cell_type": "markdown",
      "id": "6ffd62c7",
      "metadata": {
        "id": "6ffd62c7"
      },
      "source": [
        "14. Describe a scenario where a while loop is more suitable than a for loop.\n",
        "\n",
        "Imagine a program that asks the user to enter a password repeatedly until they enter the correct one.\n"
      ]
    },
    {
      "cell_type": "code",
      "execution_count": null,
      "id": "5f8a3c8a",
      "metadata": {
        "id": "5f8a3c8a",
        "outputId": "4f8b2793-7c6c-4e14-e676-a109b679a331"
      },
      "outputs": [
        {
          "name": "stdout",
          "output_type": "stream",
          "text": [
            "Access granted!\n"
          ]
        }
      ],
      "source": [
        "correct_password = \"secret\"\n",
        "user_input = \"\"\n",
        "\n",
        "while user_input != correct_password:\n",
        "    user_input = input(\"Enter password: \")\n",
        "\n",
        "print(\"Access granted!\")\n",
        "#Here, you can’t use a for loop easily because you don’t know how many attempts the user will need —\n",
        "# the loop continues until the condition (correct password entered) is met."
      ]
    },
    {
      "cell_type": "markdown",
      "id": "f4a89d0c",
      "metadata": {
        "id": "f4a89d0c"
      },
      "source": [
        "## Practical Questions"
      ]
    },
    {
      "cell_type": "markdown",
      "id": "b762a40c",
      "metadata": {
        "id": "b762a40c"
      },
      "source": [
        "1. Write a Python program to print \"Hello, World!\"."
      ]
    },
    {
      "cell_type": "code",
      "execution_count": null,
      "id": "6fd41d0b",
      "metadata": {
        "id": "6fd41d0b",
        "outputId": "50156c40-96fd-454a-cd6e-d932b54cc74a"
      },
      "outputs": [
        {
          "name": "stdout",
          "output_type": "stream",
          "text": [
            "Hello, World!\n"
          ]
        }
      ],
      "source": [
        "print (\"Hello, World!\")"
      ]
    },
    {
      "cell_type": "markdown",
      "id": "9c2564c5",
      "metadata": {
        "id": "9c2564c5"
      },
      "source": [
        "2. Write a Python program that displays your name and age."
      ]
    },
    {
      "cell_type": "code",
      "execution_count": null,
      "id": "33608788",
      "metadata": {
        "id": "33608788",
        "outputId": "d85674c0-ba55-4954-8327-d65b6b6d0a4f"
      },
      "outputs": [
        {
          "name": "stdout",
          "output_type": "stream",
          "text": [
            "My name is  Abhishek and age is 22\n"
          ]
        }
      ],
      "source": [
        "name = \"Abhishek\"\n",
        "age = 22\n",
        "print (\"My name is \",name,\"and age is\", age)"
      ]
    },
    {
      "cell_type": "markdown",
      "id": "2f16ea75",
      "metadata": {
        "id": "2f16ea75"
      },
      "source": [
        "3. Write code to print all the pre-defined keywords in Python using the keyword library."
      ]
    },
    {
      "cell_type": "code",
      "execution_count": null,
      "id": "55e9e13e",
      "metadata": {
        "id": "55e9e13e",
        "outputId": "50535548-ae87-46a7-de3d-b0e935ad88b9"
      },
      "outputs": [
        {
          "name": "stdout",
          "output_type": "stream",
          "text": [
            "['False', 'None', 'True', 'and', 'as', 'assert', 'async', 'await', 'break', 'class', 'continue', 'def', 'del', 'elif', 'else', 'except', 'finally', 'for', 'from', 'global', 'if', 'import', 'in', 'is', 'lambda', 'nonlocal', 'not', 'or', 'pass', 'raise', 'return', 'try', 'while', 'with', 'yield']\n"
          ]
        }
      ],
      "source": [
        "import keyword\n",
        "print(keyword.kwlist)"
      ]
    },
    {
      "cell_type": "markdown",
      "id": "dfcccc3d",
      "metadata": {
        "id": "dfcccc3d"
      },
      "source": [
        "4. Write a program that checks if a given word is a Python keyword."
      ]
    },
    {
      "cell_type": "code",
      "execution_count": null,
      "id": "39a6b228",
      "metadata": {
        "id": "39a6b228",
        "outputId": "3678cd97-433d-408f-80a7-c4dc19a227da"
      },
      "outputs": [
        {
          "name": "stdout",
          "output_type": "stream",
          "text": [
            "it is python keyword\n"
          ]
        }
      ],
      "source": [
        "# it take word as input and match it in keyword list\n",
        "import keyword\n",
        "word = input(\"entre the python keyword\")\n",
        "if word in keyword.kwlist:\n",
        "    print (\"it is python keyword\")\n",
        "else:\n",
        "    print(\"it is not python keyword\")"
      ]
    },
    {
      "cell_type": "markdown",
      "id": "c632ba99",
      "metadata": {
        "id": "c632ba99"
      },
      "source": [
        "5. Create a list and tuple in Python, and demonstrate how attempting to change an element works differently\n",
        "for each"
      ]
    },
    {
      "cell_type": "code",
      "execution_count": null,
      "id": "7a89fea9",
      "metadata": {
        "id": "7a89fea9",
        "outputId": "ca92ac72-37fb-4719-a8bc-abd22e767db2"
      },
      "outputs": [
        {
          "name": "stdout",
          "output_type": "stream",
          "text": [
            "[1, 4, 8, 16, 18, 20]\n"
          ]
        },
        {
          "data": {
            "text/plain": [
              "list"
            ]
          },
          "execution_count": 23,
          "metadata": {},
          "output_type": "execute_result"
        }
      ],
      "source": [
        "#creating list in pyhton\n",
        "a= [1,4,8,16,18,20]\n",
        "print(a)\n",
        "type(a)"
      ]
    },
    {
      "cell_type": "code",
      "execution_count": null,
      "id": "bc1d716c",
      "metadata": {
        "id": "bc1d716c",
        "outputId": "59bcdd7e-3f17-4a35-cb77-a9048d9dde57"
      },
      "outputs": [
        {
          "data": {
            "text/plain": [
              "[1, 4, 8, 26, 18, 20]"
            ]
          },
          "execution_count": 19,
          "metadata": {},
          "output_type": "execute_result"
        }
      ],
      "source": [
        "#now i am attempting to change the 3rd index no. which is 16 trying to make it 26\n",
        "a[3]=26\n",
        "a#here 3rd element is now 26"
      ]
    },
    {
      "cell_type": "code",
      "execution_count": null,
      "id": "b5bc8699",
      "metadata": {
        "id": "b5bc8699",
        "outputId": "1e052ad7-5713-48d8-f592-d6d9e78ec54c"
      },
      "outputs": [
        {
          "name": "stdout",
          "output_type": "stream",
          "text": [
            "(1, 4, 16, 18, 20)\n"
          ]
        },
        {
          "data": {
            "text/plain": [
              "tuple"
            ]
          },
          "execution_count": 24,
          "metadata": {},
          "output_type": "execute_result"
        }
      ],
      "source": [
        "#now i am making tuple\n",
        "b=(1,4,16,18,20)\n",
        "print(b)\n",
        "type(b)"
      ]
    },
    {
      "cell_type": "code",
      "execution_count": null,
      "id": "285afc7a",
      "metadata": {
        "id": "285afc7a",
        "outputId": "98385eb6-eef4-42aa-fae3-d68d6738839c"
      },
      "outputs": [
        {
          "ename": "TypeError",
          "evalue": "'tuple' object does not support item assignment",
          "output_type": "error",
          "traceback": [
            "\u001b[31m---------------------------------------------------------------------------\u001b[39m",
            "\u001b[31mTypeError\u001b[39m                                 Traceback (most recent call last)",
            "\u001b[36mCell\u001b[39m\u001b[36m \u001b[39m\u001b[32mIn[28]\u001b[39m\u001b[32m, line 2\u001b[39m\n\u001b[32m      1\u001b[39m \u001b[38;5;66;03m#now i am trying to change the 3rd index element 18 to 28\u001b[39;00m\n\u001b[32m----> \u001b[39m\u001b[32m2\u001b[39m \u001b[43mb\u001b[49m\u001b[43m[\u001b[49m\u001b[32;43m3\u001b[39;49m\u001b[43m]\u001b[49m = \u001b[32m28\u001b[39m\u001b[38;5;66;03m#tuple is immutable that's why it shows error\u001b[39;00m\n",
            "\u001b[31mTypeError\u001b[39m: 'tuple' object does not support item assignment"
          ]
        }
      ],
      "source": [
        "#now i am trying to change the 3rd index element 18 to 28\n",
        "b[3] = 28#tuple is immutable that's why it shows error"
      ]
    },
    {
      "cell_type": "markdown",
      "id": "23c34700",
      "metadata": {
        "id": "23c34700"
      },
      "source": [
        "6.  Write a function to demonstrate the behavior of mutable and immutable arguments."
      ]
    },
    {
      "cell_type": "code",
      "execution_count": null,
      "id": "99d46b07",
      "metadata": {
        "id": "99d46b07",
        "outputId": "5dc6ab9f-4aad-4f87-c5a7-aa9c5b0555b6"
      },
      "outputs": [
        {
          "name": "stdout",
          "output_type": "stream",
          "text": [
            "abhishek\n"
          ]
        },
        {
          "data": {
            "text/plain": [
              "str"
            ]
          },
          "execution_count": 46,
          "metadata": {},
          "output_type": "execute_result"
        }
      ],
      "source": [
        "#i am creating string and then check it but mutating the element\n",
        "str = \"abhishek\"\n",
        "print(str)\n",
        "type(str)"
      ]
    },
    {
      "cell_type": "code",
      "execution_count": null,
      "id": "635d2270",
      "metadata": {
        "id": "635d2270",
        "outputId": "0151ff8d-6453-4a2c-f9e0-0dccb683b28b"
      },
      "outputs": [
        {
          "ename": "TypeError",
          "evalue": "'str' object does not support item assignment",
          "output_type": "error",
          "traceback": [
            "\u001b[31m---------------------------------------------------------------------------\u001b[39m",
            "\u001b[31mTypeError\u001b[39m                                 Traceback (most recent call last)",
            "\u001b[36mCell\u001b[39m\u001b[36m \u001b[39m\u001b[32mIn[51]\u001b[39m\u001b[32m, line 2\u001b[39m\n\u001b[32m      1\u001b[39m \u001b[38;5;66;03m#Here like str is string and it is immutable so it gives error\u001b[39;00m\n\u001b[32m----> \u001b[39m\u001b[32m2\u001b[39m \u001b[38;5;28;43mstr\u001b[39;49m\u001b[43m[\u001b[49m\u001b[32;43m2\u001b[39;49m\u001b[43m]\u001b[49m= \u001b[33m\"\u001b[39m\u001b[33mh\u001b[39m\u001b[33m\"\u001b[39m\n",
            "\u001b[31mTypeError\u001b[39m: 'str' object does not support item assignment"
          ]
        }
      ],
      "source": [
        "#Here str is string and it is immutable so it gives error\n",
        "str[2]= \"h\""
      ]
    },
    {
      "cell_type": "code",
      "execution_count": null,
      "id": "f39e2ba3",
      "metadata": {
        "id": "f39e2ba3",
        "outputId": "4d51de49-726c-4539-8e8f-359b5a6fa292"
      },
      "outputs": [
        {
          "name": "stdout",
          "output_type": "stream",
          "text": [
            "[10, 20, 30, 40, 50]\n"
          ]
        },
        {
          "data": {
            "text/plain": [
              "list"
            ]
          },
          "execution_count": 52,
          "metadata": {},
          "output_type": "execute_result"
        }
      ],
      "source": [
        "#now list is mutable i am creating list for changing its element\n",
        "list_value= [10,20,30,40,50]\n",
        "print(list_value)\n",
        "type(list_value)"
      ]
    },
    {
      "cell_type": "code",
      "execution_count": null,
      "id": "741a669e",
      "metadata": {
        "id": "741a669e",
        "outputId": "4ed44ba1-151b-4fd5-fe71-df9f3bc2323d"
      },
      "outputs": [
        {
          "data": {
            "text/plain": [
              "[10, 15, 30, 40, 50]"
            ]
          },
          "execution_count": 56,
          "metadata": {},
          "output_type": "execute_result"
        }
      ],
      "source": [
        "#now list is mutable so i am changing the element of list 20 and make it 15\n",
        "list_value[1]= 15\n",
        "list_value"
      ]
    },
    {
      "cell_type": "markdown",
      "id": "7da05bcb",
      "metadata": {
        "id": "7da05bcb"
      },
      "source": [
        "7.  Write a program that performs basic arithmetic operations on two user-input numbers."
      ]
    },
    {
      "cell_type": "code",
      "execution_count": null,
      "id": "66f6ac7a",
      "metadata": {
        "id": "66f6ac7a",
        "outputId": "3b552617-3cea-47d1-d91f-cb87e42920ae"
      },
      "outputs": [
        {
          "name": "stdout",
          "output_type": "stream",
          "text": [
            "Addition of 458.0 and 24.0 is 482.0\n",
            "subtraction of 458.0 and 24.0 is 434.0\n",
            "Multiplication of 458.0 and 24.0 is 10992.0\n",
            "Division of 458.0 and 24.0 is 19.083333333333332\n",
            "Remainder of 458.0 and 24.0 is 2.0\n",
            "Floor division of 458.0 and 24.0 is 19.0\n"
          ]
        }
      ],
      "source": [
        "num1 = float(input(\"entre first number\"))\n",
        "num2 = float(input(\"entre second number\"))\n",
        "\n",
        "number1 = num1 + num2\n",
        "number2 = num1 - num2\n",
        "number3 = num1 * num2\n",
        "number4 = num1 / num2\n",
        "number5 = num1 % num2\n",
        "number6 = num1 // num2\n",
        "print (f\"Addition of {num1} and {num2} is {number1}\")\n",
        "print (f\"subtraction of {num1} and {num2} is {number2}\")\n",
        "print (f\"Multiplication of {num1} and {num2} is {number3}\")\n",
        "print (f\"Division of {num1} and {num2} is {number4}\")\n",
        "print (f\"Remainder of {num1} and {num2} is {number5}\")\n",
        "print (f\"Floor division of {num1} and {num2} is {number6}\")"
      ]
    },
    {
      "cell_type": "markdown",
      "id": "f40688fb",
      "metadata": {
        "id": "f40688fb"
      },
      "source": [
        "8.  Write a program to demonstrate the use of logical operators."
      ]
    },
    {
      "cell_type": "code",
      "execution_count": null,
      "id": "bd2b5dbc",
      "metadata": {
        "id": "bd2b5dbc",
        "outputId": "668072e1-6466-44ba-cbe6-e9af36337770"
      },
      "outputs": [
        {
          "name": "stdout",
          "output_type": "stream",
          "text": [
            "a and b: False\n",
            "a and a: True\n",
            "b and b: False\n",
            "a or b: True\n",
            "a or a: True\n",
            "b or b: False\n",
            "not a: False\n",
            "not b: True\n"
          ]
        }
      ],
      "source": [
        "a = True\n",
        "b = False\n",
        "\n",
        "print(\"a and b:\", a and b)   # False, because both are not True\n",
        "print(\"a and a:\", a and a)\n",
        "print(\"b and b:\", b and b)\n",
        "\n",
        "print(\"a or b:\", a or b)     # True, because at least one is True\n",
        "print(\"a or a:\", a or a)\n",
        "print(\"b or b:\", b or b)\n",
        "\n",
        "print(\"not a:\", not a)       # False, negates True to False\n",
        "print(\"not b:\", not b)\n"
      ]
    },
    {
      "cell_type": "markdown",
      "id": "3e10cc02",
      "metadata": {
        "id": "3e10cc02"
      },
      "source": [
        "9. Write a Python program to convert user input from string to integer, float, and boolean types."
      ]
    },
    {
      "cell_type": "code",
      "execution_count": null,
      "id": "59dc1839",
      "metadata": {
        "id": "59dc1839",
        "outputId": "fadd4dc9-2e2e-4505-d7dd-7e016b401bd9"
      },
      "outputs": [
        {
          "name": "stdout",
          "output_type": "stream",
          "text": [
            "Original input: 55\n",
            "Type of input_given: <class 'str'>\n",
            "As integer: 55\n",
            "Type of int_value: <class 'int'>\n",
            "As float: 55.0\n",
            "Type of float_value: <class 'float'>\n",
            "As boolean: True\n",
            "Type of bool_value: <class 'bool'>\n"
          ]
        }
      ],
      "source": [
        "input_given = input(\"Enter the input: \")\n",
        "print(\"Original input:\", input_given)\n",
        "print(\"Type of input_given:\", type(input_given))\n",
        "\n",
        "int_value = int(input_given)\n",
        "print(\"As integer:\", int_value)\n",
        "print(\"Type of int_value:\", type(int_value))\n",
        "\n",
        "float_value = float(input_given)\n",
        "print(\"As float:\", float_value)\n",
        "print(\"Type of float_value:\", type(float_value))\n",
        "\n",
        "bool_value = bool(input_given)\n",
        "print(\"As boolean:\", bool_value)\n",
        "print(\"Type of bool_value:\", type(bool_value))\n"
      ]
    },
    {
      "cell_type": "markdown",
      "id": "1135388d",
      "metadata": {
        "id": "1135388d"
      },
      "source": [
        "10. Write code to demonstrate type casting with list elements."
      ]
    },
    {
      "cell_type": "code",
      "execution_count": null,
      "id": "f19da5c5",
      "metadata": {
        "id": "f19da5c5",
        "outputId": "36f525b9-8d3a-4f2c-d5de-9ff09ece8e9f"
      },
      "outputs": [
        {
          "name": "stdout",
          "output_type": "stream",
          "text": [
            "Original list (strings): ['10', '20', '30', '0', '5']\n",
            "List after converting to integers: [10, 20, 30, 0, 5]\n",
            "List after converting to floats: [10.0, 20.0, 30.0, 0.0, 5.0]\n",
            "List after converting to booleans: [True, True, True, False, True]\n"
          ]
        }
      ],
      "source": [
        "# Original list with string numbers\n",
        "string_list = ['10', '20', '30', '0', '5']\n",
        "\n",
        "print(\"Original list (strings):\", string_list)\n",
        "\n",
        "# Convert to integers\n",
        "int_list = [int(x) for x in string_list]\n",
        "print(\"List after converting to integers:\", int_list)\n",
        "\n",
        "# Convert to floats\n",
        "float_list = [float(x) for x in string_list]\n",
        "print(\"List after converting to floats:\", float_list,)\n",
        "\n",
        "# Convert to booleans\n",
        "bool_list = [bool(int(x)) for x in string_list]  # Convert to int first for accurate bool conversion\n",
        "print(\"List after converting to booleans:\", bool_list)\n"
      ]
    },
    {
      "cell_type": "markdown",
      "id": "443c8dc1",
      "metadata": {
        "id": "443c8dc1"
      },
      "source": [
        "11. Write a program that checks if a number is positive, negative, or zero."
      ]
    },
    {
      "cell_type": "code",
      "execution_count": null,
      "id": "0030ef1c",
      "metadata": {
        "id": "0030ef1c",
        "outputId": "80fd74f5-9760-4024-c873-3762dfe052c4"
      },
      "outputs": [
        {
          "name": "stdout",
          "output_type": "stream",
          "text": [
            "The number is positive.\n"
          ]
        }
      ],
      "source": [
        "# Take user input\n",
        "number = float(input(\"Enter a number: \"))\n",
        "\n",
        "# Check the condition\n",
        "if number > 0:\n",
        "    print(\"The number is positive.\")\n",
        "elif number < 0:\n",
        "    print(\"The number is negative.\")\n",
        "else:\n",
        "    print(\"The number is zero.\")\n"
      ]
    },
    {
      "cell_type": "markdown",
      "id": "0298263e",
      "metadata": {
        "id": "0298263e"
      },
      "source": [
        "12. Write a for loop to print numbers from 1 to 10."
      ]
    },
    {
      "cell_type": "code",
      "execution_count": null,
      "id": "a496f051",
      "metadata": {
        "id": "a496f051",
        "outputId": "e2b6c7a7-01f4-42b0-c320-3ed8af741e24"
      },
      "outputs": [
        {
          "name": "stdout",
          "output_type": "stream",
          "text": [
            "the number is : 1\n",
            "the number is : 2\n",
            "the number is : 3\n",
            "the number is : 4\n",
            "the number is : 5\n",
            "the number is : 6\n",
            "the number is : 7\n",
            "the number is : 8\n",
            "the number is : 9\n",
            "the number is : 10\n"
          ]
        }
      ],
      "source": [
        "for i in range (1,11):\n",
        "    print(\"the number is :\",i)"
      ]
    },
    {
      "cell_type": "markdown",
      "id": "2e8320e3",
      "metadata": {
        "id": "2e8320e3"
      },
      "source": [
        "13.  Write a Python program to find the sum of all even numbers between 1 and 50."
      ]
    },
    {
      "cell_type": "code",
      "execution_count": null,
      "id": "fc7ad705",
      "metadata": {
        "id": "fc7ad705",
        "outputId": "ecdc1945-5a75-4d19-e1d8-8c01b94aea7a"
      },
      "outputs": [
        {
          "name": "stdout",
          "output_type": "stream",
          "text": [
            "The sum of all even no.: 650\n"
          ]
        }
      ],
      "source": [
        "n=0\n",
        "i=1\n",
        "while i <=50:\n",
        "    if i % 2 ==0:\n",
        "        n += i\n",
        "    i += 1\n",
        "print(\"The sum of all even no.:\",n)\n",
        "\n"
      ]
    },
    {
      "cell_type": "code",
      "execution_count": null,
      "id": "a8f6eaf0",
      "metadata": {
        "id": "a8f6eaf0",
        "outputId": "b697be97-5046-441d-d25a-460a6ef9efb1"
      },
      "outputs": [
        {
          "name": "stdout",
          "output_type": "stream",
          "text": [
            "The sum of even no from 1 to 50 650\n"
          ]
        }
      ],
      "source": [
        "n = 0\n",
        "for i in range(1,51):\n",
        "    if i % 2 == 0:\n",
        "        n += i\n",
        "print(\"The sum of even no from 1 to 50\",n)"
      ]
    },
    {
      "cell_type": "markdown",
      "id": "44da9dfb",
      "metadata": {
        "id": "44da9dfb"
      },
      "source": [
        "14.  Write a program to reverse a string using a while loop."
      ]
    },
    {
      "cell_type": "code",
      "execution_count": null,
      "id": "a84d6608",
      "metadata": {
        "id": "a84d6608",
        "outputId": "97019d8c-3fd3-4b63-c650-5b48e49684b0"
      },
      "outputs": [
        {
          "name": "stdout",
          "output_type": "stream",
          "text": [
            "ecneics ataD\n"
          ]
        }
      ],
      "source": [
        "#reversed string using while loop\n",
        "course= \"Data science\"\n",
        "rev =\"\"\n",
        "i = len(course)-1\n",
        "while i >=0:\n",
        "    rev = rev + course[i]\n",
        "    i = i - 1\n",
        "print(rev)"
      ]
    },
    {
      "cell_type": "code",
      "execution_count": null,
      "id": "e948ca66",
      "metadata": {
        "id": "e948ca66",
        "outputId": "b9d38608-f532-4522-b2a3-dcb89a0dd3ad"
      },
      "outputs": [
        {
          "name": "stdout",
          "output_type": "stream",
          "text": [
            "ecneics atad\n"
          ]
        }
      ],
      "source": [
        "# reversed string using for loop\n",
        "course = \"data science\"\n",
        "rev = \"\"\n",
        "for char in course:\n",
        "    rev = char + rev\n",
        "print(rev)\n"
      ]
    },
    {
      "cell_type": "markdown",
      "id": "3bffbc63",
      "metadata": {
        "id": "3bffbc63"
      },
      "source": [
        "15. Write a Python program to calculate the factorial of a number provided by the user using a while loop."
      ]
    },
    {
      "cell_type": "code",
      "execution_count": null,
      "id": "51de6467",
      "metadata": {
        "id": "51de6467",
        "outputId": "261a57fd-c58b-4f89-f864-13fb99c68ddb"
      },
      "outputs": [
        {
          "name": "stdout",
          "output_type": "stream",
          "text": [
            "The factorial of 5 is 120\n"
          ]
        }
      ],
      "source": [
        "#While loop for factorial calculation\n",
        "number = int(input(\"Enter a number: \"))\n",
        "factorial = 1\n",
        "i = 1\n",
        "while i <= number:\n",
        "    factorial = factorial * i\n",
        "    i += 1\n",
        "print(f\"The factorial of {number} is {factorial}\")"
      ]
    }
  ],
  "metadata": {
    "kernelspec": {
      "display_name": "Python 3",
      "language": "python",
      "name": "python3"
    },
    "language_info": {
      "codemirror_mode": {
        "name": "ipython",
        "version": 3
      },
      "file_extension": ".py",
      "mimetype": "text/x-python",
      "name": "python",
      "nbconvert_exporter": "python",
      "pygments_lexer": "ipython3",
      "version": "3.13.5"
    },
    "colab": {
      "provenance": []
    }
  },
  "nbformat": 4,
  "nbformat_minor": 5
}